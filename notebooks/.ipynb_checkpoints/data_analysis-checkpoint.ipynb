{
 "cells": [
  {
   "cell_type": "code",
   "execution_count": 2,
   "metadata": {},
   "outputs": [
    {
     "data": {
      "text/plain": [
       "\u001b[36mslickVersion\u001b[39m: \u001b[32mString\u001b[39m = \u001b[32m\"3.3.3\"\u001b[39m\n",
       "\u001b[36mslickPgVersion\u001b[39m: \u001b[32mString\u001b[39m = \u001b[32m\"0.19.5\"\u001b[39m\n",
       "\u001b[36mpostgresVersion\u001b[39m: \u001b[32mString\u001b[39m = \u001b[32m\"42.2.19\"\u001b[39m\n",
       "\u001b[36mlogbackVersion\u001b[39m: \u001b[32mString\u001b[39m = \u001b[32m\"1.2.3\"\u001b[39m"
      ]
     },
     "execution_count": 2,
     "metadata": {},
     "output_type": "execute_result"
    }
   ],
   "source": [
    "val slickVersion = \"3.3.3\"\n",
    "val slickPgVersion = \"0.19.5\"\n",
    "val postgresVersion = \"42.2.19\"\n",
    "val logbackVersion = \"1.2.3\"\n",
    "\n",
    "interp.load.ivy(\"com.typesafe.slick\" %% \"slick\" % slickVersion)\n",
    "interp.load.ivy(\"com.typesafe.slick\" %% \"slick-hikaricp\" % slickVersion)\n",
    "interp.load.ivy(\"com.github.tminglei\" %% \"slick-pg\" % slickPgVersion)\n",
    "interp.load.ivy(\"com.github.tminglei\" %% \"slick-pg_spray-json\" % slickPgVersion)\n",
    "interp.load.ivy(\"org.postgresql\" % \"postgresql\" % postgresVersion)\n",
    "interp.load.ivy(\"ch.qos.logback\" % \"logback-classic\" % logbackVersion)"
   ]
  },
  {
   "cell_type": "code",
   "execution_count": 8,
   "metadata": {},
   "outputs": [],
   "source": [
    "interp.load.cp(os.Path(\"/home/jovyan/target/scala-2.13/masterthesis-khipu_2.13-0.1.jar\"))"
   ]
  },
  {
   "cell_type": "code",
   "execution_count": 9,
   "metadata": {},
   "outputs": [
    {
     "name": "stderr",
     "output_type": "stream",
     "text": [
      "cmd9.sc:16: value getActions is not a member of de.tmrdlt.database.action.ActionDB\n",
      "val actions =  Await.result(actionDB.getActions, 2 seconds)\n",
      "                                     ^Compilation Failed"
     ]
    },
    {
     "ename": "",
     "evalue": "",
     "output_type": "error",
     "traceback": [
      "Compilation Failed"
     ]
    }
   ],
   "source": [
    "import scala.concurrent.ExecutionContext.Implicits.global\n",
    "import scala.concurrent.Future\n",
    "import scala.concurrent.duration._\n",
    "import scala.concurrent.{ Await, Future }\n",
    "import scala.language.postfixOps\n",
    "\n",
    "import de.tmrdlt.database.workflowlist.WorkflowListDB\n",
    "import de.tmrdlt.database.action.ActionDB\n",
    "\n",
    "\n",
    "val workflowListDB = new WorkflowListDB()\n",
    "val actionDB = new ActionDB()\n",
    "\n",
    "\n",
    "val workflowLists =  Await.result(workflowListDB.getWorkflowLists, 2 seconds)\n",
    "val actions =  Await.result(actionDB.getActions, 2 seconds)"
   ]
  },
  {
   "cell_type": "code",
   "execution_count": 5,
   "metadata": {},
   "outputs": [
    {
     "name": "stderr",
     "output_type": "stream",
     "text": [
      "cmd5.sc:8: not found: value WorkflowListType\n",
      "            listType = WorkflowListType.BOARD,\n",
      "                       ^cmd5.sc:9: not found: value WorkflowListState\n",
      "            state = Some(WorkflowListState.OPEN),\n",
      "                         ^cmd5.sc:10: not found: value WorkflowListDataSource\n",
      "            dataSource = WorkflowListDataSource.Khipu,\n",
      "                         ^cmd5.sc:12: not found: value LocalDateTime\n",
      "            createdAt = LocalDateTime.now(),\n",
      "                        ^cmd5.sc:13: not found: value LocalDateTime\n",
      "            updatedAt = LocalDateTime.now()\n",
      "                        ^Compilation Failed"
     ]
    },
    {
     "ename": "",
     "evalue": "",
     "output_type": "error",
     "traceback": [
      "Compilation Failed"
     ]
    }
   ],
   "source": [
    "val wl = WorkflowList(\n",
    "            id = 0L,\n",
    "            apiId = java.util.UUID.randomUUID.toString,\n",
    "            title = \"bla\",\n",
    "            description = None,\n",
    "            parentId = None,\n",
    "            position = 0,\n",
    "            listType = WorkflowListType.BOARD,\n",
    "            state = Some(WorkflowListState.OPEN),\n",
    "            dataSource = WorkflowListDataSource.Khipu,\n",
    "            useCase = None,\n",
    "            createdAt = LocalDateTime.now(),\n",
    "            updatedAt = LocalDateTime.now()\n",
    "          )"
   ]
  },
  {
   "cell_type": "code",
   "execution_count": null,
   "metadata": {},
   "outputs": [],
   "source": []
  }
 ],
 "metadata": {
  "kernelspec": {
   "display_name": "Scala 2.13",
   "language": "scala",
   "name": "scala213"
  },
  "language_info": {
   "codemirror_mode": "text/x-scala",
   "file_extension": ".sc",
   "mimetype": "text/x-scala",
   "name": "scala",
   "nbconvert_exporter": "script",
   "version": "2.13.3"
  }
 },
 "nbformat": 4,
 "nbformat_minor": 4
}
