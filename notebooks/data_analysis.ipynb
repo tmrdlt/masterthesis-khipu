{
 "cells": [
  {
   "cell_type": "code",
   "execution_count": 3,
   "metadata": {},
   "outputs": [],
   "source": [
    "interp.load.cp(os.Path(\"/home/jovyan/target/scala-2.12/masterthesis-khipu_2.12-0.1.0-SNAPSHOT.jar\")) "
   ]
  },
  {
   "cell_type": "code",
   "execution_count": null,
   "metadata": {},
   "outputs": [],
   "source": []
  },
  {
   "cell_type": "code",
   "execution_count": 5,
   "metadata": {},
   "outputs": [
    {
     "name": "stderr",
     "output_type": "stream",
     "text": [
      "cmd3.sc:19: Symbol 'term spray.json' is missing from the classpath.\n",
      "This symbol is required by 'trait de.tmrdlt.models.AdditionalJsonTypes'.\n",
      "Make sure that term json is in your classpath and check for conflicting dependencies with `-Ylog-classpath`.\n",
      "A full rebuild may help if 'AdditionalJsonTypes.class' was compiled against an incompatible version of spray.\n",
      "final val cmd2: _root_.ammonite.$sess.cmd2.instance.type = if (__amm_usedThings(\"\"\"cmd2\"\"\")) _root_.ammonite.$sess.cmd2.instance else null\n",
      "          ^Compilation Failed"
     ]
    },
    {
     "ename": "",
     "evalue": "",
     "output_type": "error",
     "traceback": [
      "Compilation Failed"
     ]
    }
   ],
   "source": [
    "import de.tmrdlt.database.workflowlist.WorkflowList\n",
    "import de.tmrdlt.models.WorkflowListType"
   ]
  },
  {
   "cell_type": "code",
   "execution_count": 5,
   "metadata": {},
   "outputs": [
    {
     "name": "stderr",
     "output_type": "stream",
     "text": [
      "cmd5.sc:8: not found: value WorkflowListType\n",
      "            listType = WorkflowListType.BOARD,\n",
      "                       ^cmd5.sc:9: not found: value WorkflowListState\n",
      "            state = Some(WorkflowListState.OPEN),\n",
      "                         ^cmd5.sc:10: not found: value WorkflowListDataSource\n",
      "            dataSource = WorkflowListDataSource.Khipu,\n",
      "                         ^cmd5.sc:12: not found: value LocalDateTime\n",
      "            createdAt = LocalDateTime.now(),\n",
      "                        ^cmd5.sc:13: not found: value LocalDateTime\n",
      "            updatedAt = LocalDateTime.now()\n",
      "                        ^Compilation Failed"
     ]
    },
    {
     "ename": "",
     "evalue": "",
     "output_type": "error",
     "traceback": [
      "Compilation Failed"
     ]
    }
   ],
   "source": [
    "val wl = WorkflowList(\n",
    "            id = 0L,\n",
    "            apiId = java.util.UUID.randomUUID.toString,\n",
    "            title = \"bla\",\n",
    "            description = None,\n",
    "            parentId = None,\n",
    "            position = 0,\n",
    "            listType = WorkflowListType.BOARD,\n",
    "            state = Some(WorkflowListState.OPEN),\n",
    "            dataSource = WorkflowListDataSource.Khipu,\n",
    "            useCase = None,\n",
    "            createdAt = LocalDateTime.now(),\n",
    "            updatedAt = LocalDateTime.now()\n",
    "          )"
   ]
  },
  {
   "cell_type": "code",
   "execution_count": null,
   "metadata": {},
   "outputs": [],
   "source": []
  }
 ],
 "metadata": {
  "kernelspec": {
   "display_name": "Scala 2.13",
   "language": "scala",
   "name": "scala213"
  },
  "language_info": {
   "codemirror_mode": "text/x-scala",
   "file_extension": ".sc",
   "mimetype": "text/x-scala",
   "name": "scala",
   "nbconvert_exporter": "script",
   "version": "2.13.3"
  }
 },
 "nbformat": 4,
 "nbformat_minor": 4
}
