{
 "cells": [
  {
   "cell_type": "code",
   "execution_count": 2,
   "metadata": {},
   "outputs": [
    {
     "data": {
      "text/plain": [
       "\u001b[36mslickVersion\u001b[39m: \u001b[32mString\u001b[39m = \u001b[32m\"3.3.3\"\u001b[39m\n",
       "\u001b[36mslickPgVersion\u001b[39m: \u001b[32mString\u001b[39m = \u001b[32m\"0.19.5\"\u001b[39m\n",
       "\u001b[36mpostgresVersion\u001b[39m: \u001b[32mString\u001b[39m = \u001b[32m\"42.2.19\"\u001b[39m\n",
       "\u001b[36mlogbackVersion\u001b[39m: \u001b[32mString\u001b[39m = \u001b[32m\"1.2.3\"\u001b[39m"
      ]
     },
     "execution_count": 2,
     "metadata": {},
     "output_type": "execute_result"
    }
   ],
   "source": [
    "val slickVersion = \"3.3.3\"\n",
    "val slickPgVersion = \"0.19.5\"\n",
    "val postgresVersion = \"42.2.19\"\n",
    "val logbackVersion = \"1.2.3\"\n",
    "\n",
    "interp.load.ivy(\"com.typesafe.slick\" %% \"slick\" % slickVersion)\n",
    "interp.load.ivy(\"com.typesafe.slick\" %% \"slick-hikaricp\" % slickVersion)\n",
    "interp.load.ivy(\"com.github.tminglei\" %% \"slick-pg\" % slickPgVersion)\n",
    "interp.load.ivy(\"com.github.tminglei\" %% \"slick-pg_spray-json\" % slickPgVersion)\n",
    "interp.load.ivy(\"org.postgresql\" % \"postgresql\" % postgresVersion)\n",
    "interp.load.ivy(\"ch.qos.logback\" % \"logback-classic\" % logbackVersion)"
   ]
  },
  {
   "cell_type": "code",
   "execution_count": 3,
   "metadata": {},
   "outputs": [],
   "source": [
    "interp.load.cp(os.Path(\"/home/jovyan/jar/masterthesis-khipu_2.13-0.1.jar\"))"
   ]
  },
  {
   "cell_type": "code",
   "execution_count": 5,
   "metadata": {},
   "outputs": [
    {
     "data": {
      "text/plain": [
       "\u001b[32mimport \u001b[39m\u001b[36mscala.concurrent.ExecutionContext.Implicits.global\n",
       "\u001b[39m\n",
       "\u001b[32mimport \u001b[39m\u001b[36mscala.concurrent.Future\n",
       "\u001b[39m\n",
       "\u001b[32mimport \u001b[39m\u001b[36mscala.concurrent.duration._\n",
       "\u001b[39m\n",
       "\u001b[32mimport \u001b[39m\u001b[36mscala.concurrent.{ Await, Future }\n",
       "\u001b[39m\n",
       "\u001b[32mimport \u001b[39m\u001b[36mscala.language.postfixOps\n",
       "\n",
       "\u001b[39m\n",
       "\u001b[32mimport \u001b[39m\u001b[36mde.tmrdlt.database.workflowlist.WorkflowListDB\n",
       "\u001b[39m\n",
       "\u001b[32mimport \u001b[39m\u001b[36mde.tmrdlt.database.action.ActionDB\n",
       "\n",
       "\n",
       "\u001b[39m\n",
       "\u001b[36mworkflowListDB\u001b[39m: \u001b[32mWorkflowListDB\u001b[39m = de.tmrdlt.database.workflowlist.WorkflowListDB@96d9f87\n",
       "\u001b[36mactionDB\u001b[39m: \u001b[32mActionDB\u001b[39m = de.tmrdlt.database.action.ActionDB@5b31ec84\n",
       "\u001b[36mworkflowLists\u001b[39m: \u001b[32mSeq\u001b[39m[\u001b[32mde\u001b[39m.\u001b[32mtmrdlt\u001b[39m.\u001b[32mdatabase\u001b[39m.\u001b[32mworkflowlist\u001b[39m.\u001b[32mWorkflowList\u001b[39m] = \u001b[33mVector\u001b[39m(\n",
       "  \u001b[33mWorkflowList\u001b[39m(\n",
       "    \u001b[32m233L\u001b[39m,\n",
       "    \u001b[32m\"5fad0555e165558a64ad0478\"\u001b[39m,\n",
       "    \u001b[32m\"Masterarbeit\"\u001b[39m,\n",
       "    \u001b[33mSome\u001b[39m(\u001b[32m\"\"\u001b[39m),\n",
       "    \u001b[32mNone\u001b[39m,\n",
       "    \u001b[32m0L\u001b[39m,\n",
       "    BOARD,\n",
       "    \u001b[33mSome\u001b[39m(OPEN),\n",
       "    Trello,\n",
       "    \u001b[32mNone\u001b[39m,\n",
       "    2020-11-12T10:50:13,\n",
       "    2021-02-26T09:50:01.786\n",
       "  ),\n",
       "  \u001b[33mWorkflowList\u001b[39m(\n",
       "    \u001b[32m234L\u001b[39m,\n",
       "    \u001b[32m\"5fad0555e165558a64ad0479\"\u001b[39m,\n",
       "    \u001b[32m\"Tasks / ToDos\"\u001b[39m,\n",
       "    \u001b[32mNone\u001b[39m,\n",
       "    \u001b[33mSome\u001b[39m(\u001b[32m233L\u001b[39m),\n",
       "    \u001b[32m0L\u001b[39m,\n",
       "    LIST,\n",
       "    \u001b[33mSome\u001b[39m(OPEN),\n",
       "    Trello,\n",
       "    \u001b[32mNone\u001b[39m,\n",
       "    2020-11-12T10:50:13,\n",
       "    2021-02-26T09:49:56.963\n",
       "  ),\n",
       "  \u001b[33mWorkflowList\u001b[39m(\n",
       "    \u001b[32m235L\u001b[39m,\n",
       "    \u001b[32m\"5fad0555e165558a64ad047a\"\u001b[39m,\n",
       "    \u001b[32m\"Im Gange\"\u001b[39m,\n",
       "    \u001b[32mNone\u001b[39m,\n",
       "    \u001b[33mSome\u001b[39m(\u001b[32m233L\u001b[39m),\n",
       "    \u001b[32m1L\u001b[39m,\n",
       "    LIST,\n",
       "    \u001b[33mSome\u001b[39m(OPEN),\n",
       "    Trello,\n",
       "...\n",
       "\u001b[36mactions\u001b[39m: \u001b[32mSeq\u001b[39m[\u001b[32mde\u001b[39m.\u001b[32mtmrdlt\u001b[39m.\u001b[32mdatabase\u001b[39m.\u001b[32maction\u001b[39m.\u001b[32mAction\u001b[39m] = \u001b[33mVector\u001b[39m(\n",
       "  \u001b[33mAction\u001b[39m(\n",
       "    \u001b[32m2295L\u001b[39m,\n",
       "    \u001b[32m\"5fad085be7adde7490ca4bc5\"\u001b[39m,\n",
       "    \u001b[32m\"updateCard\"\u001b[39m,\n",
       "    \u001b[32m\"5fad079600700c20b574d8ae\"\u001b[39m,\n",
       "    \u001b[32m\"5db1cdf67a57513a80c3162a\"\u001b[39m,\n",
       "    2020-11-12T10:03:07.962,\n",
       "    Trello\n",
       "  ),\n",
       "  \u001b[33mAction\u001b[39m(\n",
       "    \u001b[32m2296L\u001b[39m,\n",
       "    \u001b[32m\"5fad079700700c20b574d8af\"\u001b[39m,\n",
       "    \u001b[32m\"createCard\"\u001b[39m,\n",
       "    \u001b[32m\"5fad079600700c20b574d8ae\"\u001b[39m,\n",
       "    \u001b[32m\"5db1cdf67a57513a80c3162a\"\u001b[39m,\n",
       "    2020-11-12T09:59:51.002,\n",
       "    Trello\n",
       "  ),\n",
       "  \u001b[33mAction\u001b[39m(\n",
       "    \u001b[32m2297L\u001b[39m,\n",
       "    \u001b[32m\"5fad078e9eeb2a8fc7db74f2\"\u001b[39m,\n",
       "    \u001b[32m\"updateCard\"\u001b[39m,\n",
       "    \u001b[32m\"5fad05d128b346015b9c53e2\"\u001b[39m,\n",
       "    \u001b[32m\"5db1cdf67a57513a80c3162a\"\u001b[39m,\n",
       "    2020-11-12T09:59:42.998,\n",
       "    Trello\n",
       "  ),\n",
       "  \u001b[33mAction\u001b[39m(\n",
       "    \u001b[32m2298L\u001b[39m,\n",
       "    \u001b[32m\"5fad078d7cfe4a759cac5611\"\u001b[39m,\n",
       "    \u001b[32m\"updateCard\"\u001b[39m,\n",
       "    \u001b[32m\"5fad05d128b346015b9c53e2\"\u001b[39m,\n",
       "    \u001b[32m\"5db1cdf67a57513a80c3162a\"\u001b[39m,\n",
       "    2020-11-12T09:59:41.716,\n",
       "    Trello\n",
       "  ),\n",
       "  \u001b[33mAction\u001b[39m(\n",
       "    \u001b[32m2299L\u001b[39m,\n",
       "...\n",
       "\u001b[36mmoveActions\u001b[39m: \u001b[32mSeq\u001b[39m[\u001b[32mde\u001b[39m.\u001b[32mtmrdlt\u001b[39m.\u001b[32mdatabase\u001b[39m.\u001b[32mmoveaction\u001b[39m.\u001b[32mMoveAction\u001b[39m] = \u001b[33mVector\u001b[39m()"
      ]
     },
     "execution_count": 5,
     "metadata": {},
     "output_type": "execute_result"
    }
   ],
   "source": [
    "import scala.concurrent.ExecutionContext.Implicits.global\n",
    "import scala.concurrent.Future\n",
    "import scala.concurrent.duration._\n",
    "import scala.concurrent.{ Await, Future }\n",
    "import scala.language.postfixOps\n",
    "\n",
    "import de.tmrdlt.database.workflowlist.WorkflowListDB\n",
    "import de.tmrdlt.database.action.ActionDB\n",
    "\n",
    "\n",
    "val workflowListDB = new WorkflowListDB()\n",
    "val actionDB = new ActionDB()\n",
    "\n",
    "\n",
    "val workflowLists =  Await.result(workflowListDB.getWorkflowLists, 2 seconds)\n",
    "val actions =  Await.result(actionDB.getActions, 2 seconds)\n",
    "val moveActions =  Await.result(actionDB.getMoveActions, 2 seconds)"
   ]
  },
  {
   "cell_type": "code",
   "execution_count": null,
   "metadata": {},
   "outputs": [],
   "source": []
  }
 ],
 "metadata": {
  "kernelspec": {
   "display_name": "Scala 2.13",
   "language": "scala",
   "name": "scala213"
  },
  "language_info": {
   "codemirror_mode": "text/x-scala",
   "file_extension": ".sc",
   "mimetype": "text/x-scala",
   "name": "scala",
   "nbconvert_exporter": "script",
   "version": "2.13.3"
  }
 },
 "nbformat": 4,
 "nbformat_minor": 4
}
