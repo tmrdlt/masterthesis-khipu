{
 "cells": [
  {
   "cell_type": "markdown",
   "metadata": {},
   "source": [
    "## Preperation: load dependencies"
   ]
  },
  {
   "cell_type": "code",
   "execution_count": null,
   "metadata": {
    "scrolled": true
   },
   "outputs": [],
   "source": [
    "//import $ivy.`com.typesafe.akka::akka-http-spray-json:10.2.4`\n",
    "//import $ivy.`com.typesafe.slick::slick:3.3.3`\n",
    "//import $ivy.`com.typesafe.slick::slick-hikaricp:3.3.3`\n",
    "//import $ivy.`com.github.tminglei::slick-pg:0.19.5`\n",
    "//import $ivy.`com.github.tminglei::slick-pg_spray-json:0.19.5`\n",
    "//import $ivy.`org.postgresql:postgresql:42.2.19`\n",
    "//import $ivy.`ch.qos.logback:logback-classic:1.2.3`\n",
    "\n",
    "// Load fat JAR\n",
    "interp.load.cp(os.Path(\"/home/jovyan/jar/masterthesis-khipu-assembly-0.1.jar\"))"
   ]
  },
  {
   "cell_type": "code",
   "execution_count": null,
   "metadata": {},
   "outputs": [],
   "source": [
    "// Smile\n",
    "\n",
    "import $ivy.`com.github.haifengl::smile-scala:2.6.0`\n",
    "\n",
    "import scala.language.postfixOps\n",
    "import org.apache.commons.csv.CSVFormat\n",
    "import smile._\n",
    "import smile.util._\n",
    "import smile.math._\n",
    "import smile.math.MathEx._\n",
    "import smile.math.kernel._\n",
    "import smile.math.matrix._\n",
    "import smile.math.matrix.Matrix._\n",
    "import smile.math.rbf._\n",
    "import smile.stat.distribution._\n",
    "import smile.data._\n",
    "import smile.data.formula._\n",
    "import smile.data.measure._\n",
    "import smile.data.`type`._\n",
    "import smile.json._\n",
    "import smile.interpolation._\n",
    "import smile.validation._\n",
    "import smile.association._\n",
    "import smile.base.cart.SplitRule\n",
    "import smile.base.mlp._\n",
    "import smile.base.rbf.RBF\n",
    "import smile.classification._\n",
    "import smile.regression._\n",
    "import smile.feature._\n",
    "import smile.clustering._\n",
    "import smile.vq._\n",
    "import smile.manifold._\n",
    "import smile.mds._\n",
    "import smile.sequence._\n",
    "import smile.projection._\n",
    "import smile.nlp._\n",
    "import smile.wavelet._\n",
    "// Plotting\n",
    "import smile.plot.swing._\n",
    "import smile.plot.vega._\n",
    "import smile.plot.show\n",
    "import smile.plot.Render._"
   ]
  },
  {
   "cell_type": "markdown",
   "metadata": {},
   "source": [
    "## Get data from DB"
   ]
  },
  {
   "cell_type": "code",
   "execution_count": null,
   "metadata": {
    "scrolled": true
   },
   "outputs": [],
   "source": [
    "import scala.concurrent.ExecutionContext.Implicits.global\n",
    "import scala.concurrent.Future\n",
    "import scala.concurrent.duration._\n",
    "import scala.concurrent.{ Await, Future }\n",
    "import scala.language.postfixOps\n",
    "\n",
    "import de.tmrdlt.database.workflowlist.WorkflowListDB\n",
    "import de.tmrdlt.database.event.EventDB\n",
    "\n",
    "\n",
    "val workflowListDB = new WorkflowListDB()\n",
    "val eventDB = new EventDB()\n",
    "\n",
    "val workflowLists =  Await.result(workflowListDB.getWorkflowLists, 2 seconds)\n",
    "val events =  Await.result(eventDB.getEvents, 2 seconds)"
   ]
  },
  {
   "cell_type": "markdown",
   "metadata": {},
   "source": [
    "# Trello\n",
    "## Size of boards and columns over time"
   ]
  },
  {
   "cell_type": "code",
   "execution_count": null,
   "metadata": {},
   "outputs": [],
   "source": [
    "import de.tmrdlt.models._\n",
    "import de.tmrdlt.database.workflowlist._\n",
    "import java.time.LocalDate\n",
    "import scala.collection.mutable.ListBuffer\n",
    "\n",
    "val boards = workflowLists\n",
    "    .filter(_.listType == WorkflowListType.BOARD)\n",
    "    .filter(_.dataSource == WorkflowListDataSource.Trello)\n",
    "print(boards.length)"
   ]
  },
  {
   "cell_type": "code",
   "execution_count": 5,
   "metadata": {
    "scrolled": false
   },
   "outputs": [
    {
     "data": {
      "text/plain": [
       "defined \u001b[32mfunction\u001b[39m \u001b[36mplotDataForBoard\u001b[39m"
      ]
     },
     "execution_count": 5,
     "metadata": {},
     "output_type": "execute_result"
    }
   ],
   "source": [
    "def plotDataForBoard(board: WorkflowList) = {\n",
    "    val data = new ListBuffer[(Int, LocalDate)]\n",
    "    data += ((0, board.createdAt.toLocalDate))\n",
    "    \n",
    "    events\n",
    "        .filter(e => (e.eventType == \"createCard\" || e.eventType == \"deleteCard\") \n",
    "               && e.boardApiId == Some(board.apiId))\n",
    "        .sortBy(_.date)\n",
    "        .foreach { e => \n",
    "            val count = if (e.eventType == \"createCard\") data.last._1 + 1 else data.last._1 - 1\n",
    "            data += ((count, e.date.toLocalDate))\n",
    "        }\n",
    "    \n",
    "    val smileData = data.toList.map(d => JsObject(\"date\" -> JsDate(d._2), \"count\" -> JsInt(d._1)))\n",
    "    val chart = VegaLite.view()\n",
    "        .mark(JsObject(\"type\" -> \"area\", \"line\" -> true, \"point\" -> true))\n",
    "        .width(800)\n",
    "        .height(200)\n",
    "        .x(field = \"date\", `type` = \"temporal\")\n",
    "        .y(field = \"count\", `type` = \"quantitative\")\n",
    "        .data(smileData)\n",
    "        .title(s\"Size of the board '${board.title}' over time\")\n",
    "    show(chart)\n",
    "    \n",
    "    val columns = workflowLists\n",
    "    .filter(_.listType == WorkflowListType.LIST)\n",
    "    .filter(_.parentId == Some(board.id))\n",
    "    .sortBy(_.position)\n",
    "    val columnData = \n",
    "    columns.map { column =>\n",
    "        val data = new ListBuffer[(Int, LocalDate, String, Int)]\n",
    "        data += ((0, column.createdAt.toLocalDate, column.title, column.position.toInt))\n",
    "        \n",
    "        events\n",
    "            .filter(e => e.parentApiId == Some(column.apiId) ||\n",
    "                         e.oldParentApiId == Some(column.apiId) ||\n",
    "                         e.newParentApiId == Some(column.apiId))\n",
    "            .sortBy(_.date)\n",
    "            .foreach { e => \n",
    "                val count = \n",
    "                    if (e.eventType == \"createCard\") {\n",
    "                        data.last._1 + 1\n",
    "                    } else if (e.eventType == \"deleteCard\") {\n",
    "                        data.last._1 - 1  \n",
    "                    } else {\n",
    "                        if (column.apiId == e.oldParentApiId.get) {\n",
    "                            data.last._1 - 1\n",
    "                        } else {\n",
    "                            data.last._1 + 1\n",
    "                        }\n",
    "                    } \n",
    "                data += ((count, e.date.toLocalDate, column.title, column.position.toInt))\n",
    "            }\n",
    "        data\n",
    "    }\n",
    "    \n",
    "    columnData.foreach { data =>\n",
    "        val smileData = data.toList.map(d => JsObject(\"date\" -> JsDate(d._2), \"count\" -> JsInt(d._1)))\n",
    "        val chart = VegaLite.view()\n",
    "            .mark(JsObject(\"type\" -> \"area\", \"line\" -> true, \"point\" -> true))\n",
    "            .width(800)\n",
    "            .height(200)\n",
    "            .x(field = \"date\", `type` = \"temporal\")\n",
    "            .y(field = \"count\", `type` = \"quantitative\")\n",
    "            .data(smileData)\n",
    "            .title(s\"Size of column '${data(0)._3}' over time\")\n",
    "        show(chart)\n",
    "    }\n",
    "    // Plot as Facet\n",
    "    //val columnSmileData = columnData.flatten.toList.map(d => JsObject(\"card_count\" -> JsInt(d._1), \"date\" -> JsDate(d._2), \"column_name\" -> JsString(d._3), \"position\" -> JsInt(d._4)))\n",
    "    //val chart2 = VegaLite.facet(columnSmileData)\n",
    "    //    .row(field = \"column_name\", `type` = \"nominal\")\n",
    "    //    .mark(JsObject(\"type\" -> \"area\", \"line\" -> true, \"point\" -> true))\n",
    "    //    .width(800)\n",
    "    //    .height(150)\n",
    "    //    .x(field = \"date\", `type` = \"temporal\")\n",
    "    //    .y(field = \"card_count\", `type` = \"quantitative\")\n",
    "    //    .title(s\"Size of the columns of board '${board.title}' over time\")\n",
    "    //show(chart2)\n",
    "}"
   ]
  },
  {
   "cell_type": "code",
   "execution_count": 6,
   "metadata": {
    "scrolled": false
   },
   "outputs": [
    {
     "ename": "",
     "evalue": "",
     "output_type": "error",
     "traceback": [
      "\u001b[31mjava.lang.IndexOutOfBoundsException: 0 is out of bounds (empty vector)\u001b[39m\n  scala.collection.immutable.Vector0$.ioob(\u001b[32mVector.scala\u001b[39m:\u001b[32m371\u001b[39m)\n  scala.collection.immutable.Vector0$.apply(\u001b[32mVector.scala\u001b[39m:\u001b[32m336\u001b[39m)\n  scala.collection.immutable.Vector0$.apply(\u001b[32mVector.scala\u001b[39m:\u001b[32m334\u001b[39m)\n  ammonite.$sess.cmd5$Helper.<init>(\u001b[32mcmd5.sc\u001b[39m:\u001b[32m1\u001b[39m)\n  ammonite.$sess.cmd5$.<clinit>(\u001b[32mcmd5.sc\u001b[39m:\u001b[32m7\u001b[39m)"
     ]
    }
   ],
   "source": [
    "plotDataForBoard(boards(0))"
   ]
  },
  {
   "cell_type": "code",
   "execution_count": null,
   "metadata": {},
   "outputs": [],
   "source": []
  }
 ],
 "metadata": {
  "kernelspec": {
   "display_name": "Scala 2.13",
   "language": "scala",
   "name": "scala213"
  },
  "language_info": {
   "codemirror_mode": "text/x-scala",
   "file_extension": ".sc",
   "mimetype": "text/x-scala",
   "name": "scala",
   "nbconvert_exporter": "script",
   "version": "2.13.3"
  }
 },
 "nbformat": 4,
 "nbformat_minor": 4
}
