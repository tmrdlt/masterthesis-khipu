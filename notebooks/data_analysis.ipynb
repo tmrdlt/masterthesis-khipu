{
 "cells": [
  {
   "cell_type": "markdown",
   "metadata": {},
   "source": [
    "## Preperation: load dependencies"
   ]
  },
  {
   "cell_type": "code",
   "execution_count": 6,
   "metadata": {
    "scrolled": true
   },
   "outputs": [],
   "source": [
    "interp.load.ivy(\"com.typesafe.akka\" %% \"akka-http-spray-json\" % \"10.2.4\")\n",
    "interp.load.ivy(\"com.typesafe.slick\" %% \"slick\" % \"3.3.3\")\n",
    "interp.load.ivy(\"com.typesafe.slick\" %% \"slick-hikaricp\" % \"3.3.3\")\n",
    "interp.load.ivy(\"com.github.tminglei\" %% \"slick-pg\" % \"0.19.5\")\n",
    "interp.load.ivy(\"com.github.tminglei\" %% \"slick-pg_spray-json\" % \"0.19.5\")\n",
    "interp.load.ivy(\"org.postgresql\" % \"postgresql\" % \"42.2.19\")\n",
    "interp.load.ivy(\"ch.qos.logback\" % \"logback-classic\" % \"1.2.3\")\n",
    "\n",
    "// Load .jar\n",
    "interp.load.cp(os.Path(\"/home/jovyan/jar/masterthesis-khipu_2.13-0.1.jar\"))"
   ]
  },
  {
   "cell_type": "code",
   "execution_count": 16,
   "metadata": {},
   "outputs": [
    {
     "data": {
      "text/plain": [
       "\u001b[32mimport \u001b[39m\u001b[36m$ivy.$                                       \n",
       "\n",
       "\u001b[39m\n",
       "\u001b[32mimport \u001b[39m\u001b[36mscala.language.postfixOps\n",
       "\u001b[39m\n",
       "\u001b[32mimport \u001b[39m\u001b[36morg.apache.commons.csv.CSVFormat\n",
       "\u001b[39m\n",
       "\u001b[32mimport \u001b[39m\u001b[36msmile._\n",
       "\u001b[39m\n",
       "\u001b[32mimport \u001b[39m\u001b[36msmile.util._\n",
       "\u001b[39m\n",
       "\u001b[32mimport \u001b[39m\u001b[36msmile.math._\n",
       "\u001b[39m\n",
       "\u001b[32mimport \u001b[39m\u001b[36msmile.math.MathEx._\n",
       "\u001b[39m\n",
       "\u001b[32mimport \u001b[39m\u001b[36msmile.math.kernel._\n",
       "\u001b[39m\n",
       "\u001b[32mimport \u001b[39m\u001b[36msmile.math.matrix._\n",
       "\u001b[39m\n",
       "\u001b[32mimport \u001b[39m\u001b[36msmile.math.matrix.Matrix._\n",
       "\u001b[39m\n",
       "\u001b[32mimport \u001b[39m\u001b[36msmile.math.rbf._\n",
       "\u001b[39m\n",
       "\u001b[32mimport \u001b[39m\u001b[36msmile.stat.distribution._\n",
       "\u001b[39m\n",
       "\u001b[32mimport \u001b[39m\u001b[36msmile.data._\n",
       "\u001b[39m\n",
       "\u001b[32mimport \u001b[39m\u001b[36msmile.data.formula._\n",
       "\u001b[39m\n",
       "\u001b[32mimport \u001b[39m\u001b[36msmile.data.measure._\n",
       "\u001b[39m\n",
       "\u001b[32mimport \u001b[39m\u001b[36msmile.data.`type`._\n",
       "\u001b[39m\n",
       "\u001b[32mimport \u001b[39m\u001b[36msmile.json._\n",
       "\u001b[39m\n",
       "\u001b[32mimport \u001b[39m\u001b[36msmile.interpolation._\n",
       "\u001b[39m\n",
       "\u001b[32mimport \u001b[39m\u001b[36msmile.validation._\n",
       "\u001b[39m\n",
       "\u001b[32mimport \u001b[39m\u001b[36msmile.association._\n",
       "\u001b[39m\n",
       "\u001b[32mimport \u001b[39m\u001b[36msmile.base.cart.SplitRule\n",
       "\u001b[39m\n",
       "\u001b[32mimport \u001b[39m\u001b[36msmile.base.mlp._\n",
       "\u001b[39m\n",
       "\u001b[32mimport \u001b[39m\u001b[36msmile.base.rbf.RBF\n",
       "\u001b[39m\n",
       "\u001b[32mimport \u001b[39m\u001b[36msmile.classification._\n",
       "\u001b[39m\n",
       "\u001b[32mimport \u001b[39m\u001b[36msmile.regression._\n",
       "\u001b[39m\n",
       "\u001b[32mimport \u001b[39m\u001b[36msmile.feature._\n",
       "\u001b[39m\n",
       "\u001b[32mimport \u001b[39m\u001b[36msmile.clustering._\n",
       "\u001b[39m\n",
       "\u001b[32mimport \u001b[39m\u001b[36msmile.vq._\n",
       "\u001b[39m\n",
       "\u001b[32mimport \u001b[39m\u001b[36msmile.manifold._\n",
       "\u001b[39m\n",
       "\u001b[32mimport \u001b[39m\u001b[36msmile.mds._\n",
       "\u001b[39m\n",
       "\u001b[32mimport \u001b[39m\u001b[36msmile.sequence._\n",
       "\u001b[39m\n",
       "\u001b[32mimport \u001b[39m\u001b[36msmile.projection._\n",
       "\u001b[39m\n",
       "\u001b[32mimport \u001b[39m\u001b[36msmile.nlp._\n",
       "\u001b[39m\n",
       "\u001b[32mimport \u001b[39m\u001b[36msmile.wavelet._\n",
       "// Plotting\n",
       "\u001b[39m\n",
       "\u001b[32mimport \u001b[39m\u001b[36msmile.plot.swing._\n",
       "\u001b[39m\n",
       "\u001b[32mimport \u001b[39m\u001b[36msmile.plot.vega._\n",
       "\u001b[39m\n",
       "\u001b[32mimport \u001b[39m\u001b[36msmile.plot.show\n",
       "\u001b[39m\n",
       "\u001b[32mimport \u001b[39m\u001b[36msmile.plot.Render._\u001b[39m"
      ]
     },
     "execution_count": 16,
     "metadata": {},
     "output_type": "execute_result"
    }
   ],
   "source": [
    "// Smile\n",
    "\n",
    "import $ivy.`com.github.haifengl::smile-scala:2.6.0`\n",
    "\n",
    "import scala.language.postfixOps\n",
    "import org.apache.commons.csv.CSVFormat\n",
    "import smile._\n",
    "import smile.util._\n",
    "import smile.math._\n",
    "import smile.math.MathEx._\n",
    "import smile.math.kernel._\n",
    "import smile.math.matrix._\n",
    "import smile.math.matrix.Matrix._\n",
    "import smile.math.rbf._\n",
    "import smile.stat.distribution._\n",
    "import smile.data._\n",
    "import smile.data.formula._\n",
    "import smile.data.measure._\n",
    "import smile.data.`type`._\n",
    "import smile.json._\n",
    "import smile.interpolation._\n",
    "import smile.validation._\n",
    "import smile.association._\n",
    "import smile.base.cart.SplitRule\n",
    "import smile.base.mlp._\n",
    "import smile.base.rbf.RBF\n",
    "import smile.classification._\n",
    "import smile.regression._\n",
    "import smile.feature._\n",
    "import smile.clustering._\n",
    "import smile.vq._\n",
    "import smile.manifold._\n",
    "import smile.mds._\n",
    "import smile.sequence._\n",
    "import smile.projection._\n",
    "import smile.nlp._\n",
    "import smile.wavelet._\n",
    "// Plotting\n",
    "import smile.plot.swing._\n",
    "import smile.plot.vega._\n",
    "import smile.plot.show\n",
    "import smile.plot.Render._"
   ]
  },
  {
   "cell_type": "markdown",
   "metadata": {},
   "source": [
    "## Get data from DB"
   ]
  },
  {
   "cell_type": "code",
   "execution_count": 17,
   "metadata": {
    "scrolled": true
   },
   "outputs": [
    {
     "data": {
      "text/plain": [
       "\u001b[32mimport \u001b[39m\u001b[36mscala.concurrent.ExecutionContext.Implicits.global\n",
       "\u001b[39m\n",
       "\u001b[32mimport \u001b[39m\u001b[36mscala.concurrent.Future\n",
       "\u001b[39m\n",
       "\u001b[32mimport \u001b[39m\u001b[36mscala.concurrent.duration._\n",
       "\u001b[39m\n",
       "\u001b[32mimport \u001b[39m\u001b[36mscala.concurrent.{ Await, Future }\n",
       "\u001b[39m\n",
       "\u001b[32mimport \u001b[39m\u001b[36mscala.language.postfixOps\n",
       "\n",
       "\u001b[39m\n",
       "\u001b[32mimport \u001b[39m\u001b[36mde.tmrdlt.database.workflowlist.WorkflowListDB\n",
       "\u001b[39m\n",
       "\u001b[32mimport \u001b[39m\u001b[36mde.tmrdlt.database.action.ActionDB\n",
       "\n",
       "\n",
       "\u001b[39m\n",
       "\u001b[36mworkflowListDB\u001b[39m: \u001b[32mWorkflowListDB\u001b[39m = de.tmrdlt.database.workflowlist.WorkflowListDB@39a2815e\n",
       "\u001b[36mactionDB\u001b[39m: \u001b[32mActionDB\u001b[39m = de.tmrdlt.database.action.ActionDB@5e3c2c60\n",
       "\u001b[36mworkflowLists\u001b[39m: \u001b[32mSeq\u001b[39m[\u001b[32mde\u001b[39m.\u001b[32mtmrdlt\u001b[39m.\u001b[32mdatabase\u001b[39m.\u001b[32mworkflowlist\u001b[39m.\u001b[32mWorkflowList\u001b[39m] = \u001b[33mVector\u001b[39m(\n",
       "  \u001b[33mWorkflowList\u001b[39m(\n",
       "...\n",
       "\u001b[36mactions\u001b[39m: \u001b[32mSeq\u001b[39m[\u001b[32mde\u001b[39m.\u001b[32mtmrdlt\u001b[39m.\u001b[32mdatabase\u001b[39m.\u001b[32maction\u001b[39m.\u001b[32mAction\u001b[39m] = \u001b[33mVector\u001b[39m(\n",
       "  \u001b[33mAction\u001b[39m(\n",
       "...\n",
       "\u001b[36mmoveActions\u001b[39m: \u001b[32mSeq\u001b[39m[\u001b[32mde\u001b[39m.\u001b[32mtmrdlt\u001b[39m.\u001b[32mdatabase\u001b[39m.\u001b[32mmoveaction\u001b[39m.\u001b[32mMoveAction\u001b[39m] = \u001b[33mVector\u001b[39m(\n",
       "  \u001b[33mMoveAction\u001b[39m(\u001b[32m1L\u001b[39m, \u001b[32m35L\u001b[39m, \u001b[32m\"5fad0555e165558a64ad0479\"\u001b[39m, \u001b[32m\"5fad0555e165558a64ad047a\"\u001b[39m),\n",
       "..."
      ]
     },
     "execution_count": 17,
     "metadata": {},
     "output_type": "execute_result"
    }
   ],
   "source": [
    "import scala.concurrent.ExecutionContext.Implicits.global\n",
    "import scala.concurrent.Future\n",
    "import scala.concurrent.duration._\n",
    "import scala.concurrent.{ Await, Future }\n",
    "import scala.language.postfixOps\n",
    "\n",
    "import de.tmrdlt.database.workflowlist.WorkflowListDB\n",
    "import de.tmrdlt.database.action.ActionDB\n",
    "\n",
    "\n",
    "val workflowListDB = new WorkflowListDB()\n",
    "val actionDB = new ActionDB()\n",
    "\n",
    "val workflowLists =  Await.result(workflowListDB.getWorkflowLists, 2 seconds)\n",
    "val actions =  Await.result(actionDB.getActions, 2 seconds)\n",
    "val moveActions =  Await.result(actionDB.getMoveActions, 2 seconds)"
   ]
  },
  {
   "cell_type": "markdown",
   "metadata": {},
   "source": [
    "## Size of Board over time"
   ]
  },
  {
   "cell_type": "code",
   "execution_count": 22,
   "metadata": {},
   "outputs": [
    {
     "data": {
      "text/plain": [
       "\u001b[32mimport \u001b[39m\u001b[36mde.tmrdlt.models._\n",
       "\u001b[39m\n",
       "\u001b[32mimport \u001b[39m\u001b[36mjava.time.LocalDate\n",
       "\u001b[39m\n",
       "\u001b[32mimport \u001b[39m\u001b[36mscala.collection.mutable.ListBuffer\n",
       "\n",
       "\u001b[39m\n",
       "\u001b[36mboards\u001b[39m: \u001b[32mSeq\u001b[39m[\u001b[32mde\u001b[39m.\u001b[32mtmrdlt\u001b[39m.\u001b[32mdatabase\u001b[39m.\u001b[32mworkflowlist\u001b[39m.\u001b[32mWorkflowList\u001b[39m] = \u001b[33mVector\u001b[39m(\n",
       "  \u001b[33mWorkflowList\u001b[39m(\n",
       "...\n",
       "\u001b[36mboard\u001b[39m: \u001b[32mde\u001b[39m.\u001b[32mtmrdlt\u001b[39m.\u001b[32mdatabase\u001b[39m.\u001b[32mworkflowlist\u001b[39m.\u001b[32mWorkflowList\u001b[39m = \u001b[33mWorkflowList\u001b[39m(\n",
       "  \u001b[32m1L\u001b[39m,\n",
       "...\n",
       "\u001b[36mdata\u001b[39m: \u001b[32mListBuffer\u001b[39m[(\u001b[32mInt\u001b[39m, \u001b[32mLocalDate\u001b[39m)] = \u001b[33mListBuffer\u001b[39m(\n",
       "  (\u001b[32m0\u001b[39m, 2020-11-12),\n",
       "...\n",
       "\u001b[36mres21_6\u001b[39m: \u001b[32mListBuffer\u001b[39m[(\u001b[32mInt\u001b[39m, \u001b[32mLocalDate\u001b[39m)] = \u001b[33mListBuffer\u001b[39m(\n",
       "  (\u001b[32m0\u001b[39m, 2020-11-12),\n",
       "...\n",
       "\u001b[36msortedActions\u001b[39m: \u001b[32mSeq\u001b[39m[\u001b[32mde\u001b[39m.\u001b[32mtmrdlt\u001b[39m.\u001b[32mdatabase\u001b[39m.\u001b[32maction\u001b[39m.\u001b[32mAction\u001b[39m] = \u001b[33mVector\u001b[39m(\n",
       "  \u001b[33mAction\u001b[39m(\n",
       "..."
      ]
     },
     "execution_count": 22,
     "metadata": {},
     "output_type": "execute_result"
    }
   ],
   "source": [
    "import de.tmrdlt.models._\n",
    "import java.time.LocalDate\n",
    "import scala.collection.mutable.ListBuffer\n",
    "\n",
    "val boards = workflowLists.filter(_.listType == WorkflowListType.BOARD)\n",
    "val board = boards.head\n",
    "\n",
    "val data = new ListBuffer[(Int, LocalDate)]\n",
    "data += ((0, board.createdAt.toLocalDate))\n",
    "\n",
    "val sortedActions = actions\n",
    "    .filter(a => a.actionType == \"createCard\" || a.actionType == \"deleteCard\")\n",
    "    .sortBy(_.date)\n",
    "\n",
    "sortedActions.foreach{a => \n",
    "    val count = if (a.actionType == \"createCard\") data.last._1 + 1 else data.last._1 - 1\n",
    "    data += ((count, a.date.toLocalDate))}\n"
   ]
  },
  {
   "cell_type": "code",
   "execution_count": 25,
   "metadata": {},
   "outputs": [
    {
     "data": {
      "text/html": [
       "\n",
       "  <iframe id=\"d6970f8c-f9d2-43e5-aa62-8bc9bb2da7b4\" sandbox=\"allow-scripts allow-same-origin\" style=\"border: none; width: 100%\" srcdoc=\"\n",
       "&lt;!DOCTYPE html&gt;\n",
       "&lt;html&gt;\n",
       "&lt;head&gt;\n",
       "  &lt;script type=&quot;text/javascript&quot; src=&quot;https://cdn.jsdelivr.net/npm/vega@5&quot;&gt;&lt;/script&gt;\n",
       "  &lt;script type=&quot;text/javascript&quot; src=&quot;https://cdn.jsdelivr.net/npm/vega-lite@4&quot;&gt;&lt;/script&gt;\n",
       "  &lt;script type=&quot;text/javascript&quot; src=&quot;https://cdn.jsdelivr.net/npm/vega-embed@6&quot;&gt;&lt;/script&gt;\n",
       "&lt;/head&gt;\n",
       "&lt;body&gt;\n",
       "\n",
       "&lt;div id=&quot;vega-lite&quot;&gt;&lt;/div&gt;\n",
       "\n",
       "&lt;script type=&quot;text/javascript&quot;&gt;\n",
       "  var spec = {&quot;data&quot;:{&quot;values&quot;:[{&quot;date&quot;:&quot;2020-11-12&quot;,&quot;count&quot;:0},{&quot;date&quot;:&quot;2020-11-12&quot;,&quot;count&quot;:1},{&quot;date&quot;:&quot;2020-11-12&quot;,&quot;count&quot;:2},{&quot;date&quot;:&quot;2020-11-12&quot;,&quot;count&quot;:3},{&quot;date&quot;:&quot;2020-11-12&quot;,&quot;count&quot;:4},{&quot;date&quot;:&quot;2020-11-30&quot;,&quot;count&quot;:5},{&quot;date&quot;:&quot;2020-11-30&quot;,&quot;count&quot;:6},{&quot;date&quot;:&quot;2020-11-30&quot;,&quot;count&quot;:7},{&quot;date&quot;:&quot;2020-11-30&quot;,&quot;count&quot;:8},{&quot;date&quot;:&quot;2020-11-30&quot;,&quot;count&quot;:9},{&quot;date&quot;:&quot;2020-12-01&quot;,&quot;count&quot;:10},{&quot;date&quot;:&quot;2020-12-01&quot;,&quot;count&quot;:11},{&quot;date&quot;:&quot;2020-12-01&quot;,&quot;count&quot;:12},{&quot;date&quot;:&quot;2020-12-01&quot;,&quot;count&quot;:13},{&quot;date&quot;:&quot;2020-12-04&quot;,&quot;count&quot;:14},{&quot;date&quot;:&quot;2020-12-04&quot;,&quot;count&quot;:15},{&quot;date&quot;:&quot;2020-12-07&quot;,&quot;count&quot;:14},{&quot;date&quot;:&quot;2020-12-07&quot;,&quot;count&quot;:13},{&quot;date&quot;:&quot;2020-12-07&quot;,&quot;count&quot;:14},{&quot;date&quot;:&quot;2020-12-08&quot;,&quot;count&quot;:15},{&quot;date&quot;:&quot;2020-12-14&quot;,&quot;count&quot;:16},{&quot;date&quot;:&quot;2021-01-25&quot;,&quot;count&quot;:17},{&quot;date&quot;:&quot;2021-02-02&quot;,&quot;count&quot;:18},{&quot;date&quot;:&quot;2021-02-02&quot;,&quot;count&quot;:19},{&quot;date&quot;:&quot;2021-02-02&quot;,&quot;count&quot;:20},{&quot;date&quot;:&quot;2021-02-09&quot;,&quot;count&quot;:21},{&quot;date&quot;:&quot;2021-02-15&quot;,&quot;count&quot;:22},{&quot;date&quot;:&quot;2021-02-15&quot;,&quot;count&quot;:23},{&quot;date&quot;:&quot;2021-02-22&quot;,&quot;count&quot;:24},{&quot;date&quot;:&quot;2021-02-23&quot;,&quot;count&quot;:25},{&quot;date&quot;:&quot;2021-02-26&quot;,&quot;count&quot;:26},{&quot;date&quot;:&quot;2021-03-08&quot;,&quot;count&quot;:27},{&quot;date&quot;:&quot;2021-03-08&quot;,&quot;count&quot;:28}]},&quot;description&quot;:&quot;Size of the boards over time&quot;,&quot;encoding&quot;:{&quot;x&quot;:{&quot;field&quot;:&quot;date&quot;,&quot;type&quot;:&quot;temporal&quot;},&quot;y&quot;:{&quot;field&quot;:&quot;count&quot;,&quot;type&quot;:&quot;quantitative&quot;}},&quot;mark&quot;:&quot;bar&quot;,&quot;height&quot;:{&quot;step&quot;:40}};\n",
       "  var opt = {\n",
       "    &quot;mode&quot;: &quot;vega-lite&quot;,\n",
       "    &quot;renderer&quot;: &quot;canvas&quot;,\n",
       "    &quot;actions&quot;: {&quot;editor&quot;: true, &quot;source&quot;: true, &quot;export&quot;: true}\n",
       "  };\n",
       "  vegaEmbed('#vega-lite', spec, opt).catch(console.error);\n",
       "&lt;/script&gt;\n",
       "&lt;/body&gt;\n",
       "&lt;/html&gt;\n",
       "    \"></iframe>\n",
       "  <script>\n",
       "    (function() {\n",
       "      function resizeIFrame(el, k) {\n",
       "        var height = el.contentWindow.document.body.scrollHeight || '600'; // Fallback in case of no scroll height\n",
       "        el.style.height = height + 'px';\n",
       "        if (k <= 10) { setTimeout(function() { resizeIFrame(el, k+1) }, 100 + (k * 250)) };\n",
       "      }\n",
       "      resizeIFrame(document.getElementById(\"d6970f8c-f9d2-43e5-aa62-8bc9bb2da7b4\"), 1);\n",
       "    })(); // IIFE\n",
       "  </script>\n",
       "    "
      ]
     },
     "metadata": {},
     "output_type": "display_data"
    },
    {
     "data": {
      "text/plain": [
       "\u001b[36msmileData\u001b[39m: \u001b[32mList\u001b[39m[\u001b[32mJsObject\u001b[39m] = \u001b[33mList\u001b[39m(\n",
       "  \u001b[33mJsObject\u001b[39m(\u001b[33mHashMap\u001b[39m(\u001b[32m\"date\"\u001b[39m -> \u001b[33mJsDate\u001b[39m(2020-11-12), \u001b[32m\"count\"\u001b[39m -> \u001b[33mJsInt\u001b[39m(\u001b[32m0\u001b[39m))),\n",
       "...\n",
       "\u001b[36mbar\u001b[39m: \u001b[32mVegaLite\u001b[39m = {\n",
       "  \"data\": {\n",
       "..."
      ]
     },
     "execution_count": 25,
     "metadata": {},
     "output_type": "execute_result"
    }
   ],
   "source": [
    "val smileData = data.toList.map(d => JsObject(\"date\" -> JsDate(d._2), \"count\" -> JsInt(d._1)))\n",
    "val bar = VegaLite.view().\n",
    "  mark(\"bar\").\n",
    "  heightStep(40).\n",
    "  x(field = \"date\", `type` = \"temporal\").\n",
    "  y(field = \"count\", `type` = \"quantitative\").\n",
    "  data(smileData).\n",
    "  description(\"Size of the boards over time\")\n",
    "\n",
    "show(bar)"
   ]
  },
  {
   "cell_type": "markdown",
   "metadata": {},
   "source": [
    "## Size of columns over time"
   ]
  },
  {
   "cell_type": "code",
   "execution_count": 26,
   "metadata": {},
   "outputs": [
    {
     "data": {
      "text/plain": [
       "\u001b[36mcolumns\u001b[39m: \u001b[32mSeq\u001b[39m[\u001b[32mde\u001b[39m.\u001b[32mtmrdlt\u001b[39m.\u001b[32mdatabase\u001b[39m.\u001b[32mworkflowlist\u001b[39m.\u001b[32mWorkflowList\u001b[39m] = \u001b[33mVector\u001b[39m(\n",
       "  \u001b[33mWorkflowList\u001b[39m(\n",
       "...\n",
       "\u001b[36mrelevantActions\u001b[39m: \u001b[32mSeq\u001b[39m[\u001b[32mde\u001b[39m.\u001b[32mtmrdlt\u001b[39m.\u001b[32mdatabase\u001b[39m.\u001b[32maction\u001b[39m.\u001b[32mAction\u001b[39m] = \u001b[33mVector\u001b[39m(\n",
       "  \u001b[33mAction\u001b[39m(\n",
       "..."
      ]
     },
     "execution_count": 26,
     "metadata": {},
     "output_type": "execute_result"
    }
   ],
   "source": [
    "val columns = workflowLists\n",
    "    .filter(_.listType == WorkflowListType.LIST)\n",
    "    .filter(_.parentId == Some(board.id))\n",
    "\n",
    "val relevantActions = actions.filter(a => a.actionType == \"createCard\" ||\n",
    "                                     a.actionType == \"deleteCard\" ||\n",
    "                                     moveActions.filter(_.actionId == a.id).size > 0)\n",
    "\n",
    "columns.foreach { column =>\n",
    "    val data = new ListBuffer[(Int, LocalDateTime)]\n",
    "\n",
    "    \n",
    "    \n",
    "    \n",
    "    \n",
    "}\n"
   ]
  },
  {
   "cell_type": "code",
   "execution_count": null,
   "metadata": {},
   "outputs": [],
   "source": []
  }
 ],
 "metadata": {
  "kernelspec": {
   "display_name": "Scala 2.13",
   "language": "scala",
   "name": "scala213"
  },
  "language_info": {
   "codemirror_mode": "text/x-scala",
   "file_extension": ".sc",
   "mimetype": "text/x-scala",
   "name": "scala",
   "nbconvert_exporter": "script",
   "version": "2.13.3"
  }
 },
 "nbformat": 4,
 "nbformat_minor": 4
}
